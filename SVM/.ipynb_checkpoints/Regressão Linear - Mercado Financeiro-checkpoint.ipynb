{
 "cells": [
  {
   "cell_type": "code",
   "execution_count": 2,
   "id": "fec34cd0",
   "metadata": {},
   "outputs": [
    {
     "data": {
      "text/html": [
       "<div>\n",
       "<style scoped>\n",
       "    .dataframe tbody tr th:only-of-type {\n",
       "        vertical-align: middle;\n",
       "    }\n",
       "\n",
       "    .dataframe tbody tr th {\n",
       "        vertical-align: top;\n",
       "    }\n",
       "\n",
       "    .dataframe thead th {\n",
       "        text-align: right;\n",
       "    }\n",
       "</style>\n",
       "<table border=\"1\" class=\"dataframe\">\n",
       "  <thead>\n",
       "    <tr style=\"text-align: right;\">\n",
       "      <th></th>\n",
       "      <th>DataReferencia</th>\n",
       "      <th>CodigoInstrumento</th>\n",
       "      <th>AcaoAtualizacao</th>\n",
       "      <th>PrecoNegocio</th>\n",
       "      <th>QuantidadeNegociada</th>\n",
       "      <th>HoraFechamento</th>\n",
       "      <th>CodigoIdentificadorNegocio</th>\n",
       "      <th>TipoSessaoPregao</th>\n",
       "      <th>DataNegocio</th>\n",
       "      <th>CodigoParticipanteComprador</th>\n",
       "      <th>CodigoParticipanteVendedor</th>\n",
       "    </tr>\n",
       "  </thead>\n",
       "  <tbody>\n",
       "    <tr>\n",
       "      <th>0</th>\n",
       "      <td>2024-08-26</td>\n",
       "      <td>TF583R</td>\n",
       "      <td>0</td>\n",
       "      <td>10,000</td>\n",
       "      <td>10000</td>\n",
       "      <td>30328170</td>\n",
       "      <td>10</td>\n",
       "      <td>1</td>\n",
       "      <td>2024-08-26</td>\n",
       "      <td>100.0</td>\n",
       "      <td>100.0</td>\n",
       "    </tr>\n",
       "    <tr>\n",
       "      <th>1</th>\n",
       "      <td>2024-08-26</td>\n",
       "      <td>CCMX24</td>\n",
       "      <td>0</td>\n",
       "      <td>63,000</td>\n",
       "      <td>1</td>\n",
       "      <td>90000023</td>\n",
       "      <td>170</td>\n",
       "      <td>1</td>\n",
       "      <td>2024-08-26</td>\n",
       "      <td>NaN</td>\n",
       "      <td>NaN</td>\n",
       "    </tr>\n",
       "    <tr>\n",
       "      <th>2</th>\n",
       "      <td>2024-08-26</td>\n",
       "      <td>CCMX24</td>\n",
       "      <td>0</td>\n",
       "      <td>63,000</td>\n",
       "      <td>1</td>\n",
       "      <td>90000023</td>\n",
       "      <td>180</td>\n",
       "      <td>1</td>\n",
       "      <td>2024-08-26</td>\n",
       "      <td>NaN</td>\n",
       "      <td>NaN</td>\n",
       "    </tr>\n",
       "    <tr>\n",
       "      <th>3</th>\n",
       "      <td>2024-08-26</td>\n",
       "      <td>CCMX24</td>\n",
       "      <td>0</td>\n",
       "      <td>63,000</td>\n",
       "      <td>2</td>\n",
       "      <td>90000023</td>\n",
       "      <td>190</td>\n",
       "      <td>1</td>\n",
       "      <td>2024-08-26</td>\n",
       "      <td>NaN</td>\n",
       "      <td>NaN</td>\n",
       "    </tr>\n",
       "    <tr>\n",
       "      <th>4</th>\n",
       "      <td>2024-08-26</td>\n",
       "      <td>BGIU24</td>\n",
       "      <td>0</td>\n",
       "      <td>243,000</td>\n",
       "      <td>10</td>\n",
       "      <td>90000073</td>\n",
       "      <td>60</td>\n",
       "      <td>1</td>\n",
       "      <td>2024-08-26</td>\n",
       "      <td>NaN</td>\n",
       "      <td>NaN</td>\n",
       "    </tr>\n",
       "  </tbody>\n",
       "</table>\n",
       "</div>"
      ],
      "text/plain": [
       "  DataReferencia CodigoInstrumento  AcaoAtualizacao PrecoNegocio  \\\n",
       "0     2024-08-26            TF583R                0       10,000   \n",
       "1     2024-08-26            CCMX24                0       63,000   \n",
       "2     2024-08-26            CCMX24                0       63,000   \n",
       "3     2024-08-26            CCMX24                0       63,000   \n",
       "4     2024-08-26            BGIU24                0      243,000   \n",
       "\n",
       "   QuantidadeNegociada  HoraFechamento  CodigoIdentificadorNegocio  \\\n",
       "0                10000        30328170                          10   \n",
       "1                    1        90000023                         170   \n",
       "2                    1        90000023                         180   \n",
       "3                    2        90000023                         190   \n",
       "4                   10        90000073                          60   \n",
       "\n",
       "   TipoSessaoPregao DataNegocio  CodigoParticipanteComprador  \\\n",
       "0                 1  2024-08-26                        100.0   \n",
       "1                 1  2024-08-26                          NaN   \n",
       "2                 1  2024-08-26                          NaN   \n",
       "3                 1  2024-08-26                          NaN   \n",
       "4                 1  2024-08-26                          NaN   \n",
       "\n",
       "   CodigoParticipanteVendedor  \n",
       "0                       100.0  \n",
       "1                         NaN  \n",
       "2                         NaN  \n",
       "3                         NaN  \n",
       "4                         NaN  "
      ]
     },
     "execution_count": 2,
     "metadata": {},
     "output_type": "execute_result"
    }
   ],
   "source": [
    "import numpy as np\n",
    "import pandas as pd\n",
    "\n",
    "path = '/home/lucas/Área de Trabalho/Curso Análise de Dados/26-08-2024_NEGOCIOSAVISTA.csv'\n",
    "\n",
    "\n",
    "data = pd.read_csv(path,sep=';')\n",
    "\n",
    "data.head()"
   ]
  },
  {
   "cell_type": "code",
   "execution_count": 3,
   "id": "ff43d439",
   "metadata": {},
   "outputs": [
    {
     "name": "stdout",
     "output_type": "stream",
     "text": [
      "<class 'pandas.core.frame.DataFrame'>\n",
      "RangeIndex: 8281631 entries, 0 to 8281630\n",
      "Data columns (total 11 columns):\n",
      " #   Column                       Dtype  \n",
      "---  ------                       -----  \n",
      " 0   DataReferencia               object \n",
      " 1   CodigoInstrumento            object \n",
      " 2   AcaoAtualizacao              int64  \n",
      " 3   PrecoNegocio                 object \n",
      " 4   QuantidadeNegociada          int64  \n",
      " 5   HoraFechamento               int64  \n",
      " 6   CodigoIdentificadorNegocio   int64  \n",
      " 7   TipoSessaoPregao             int64  \n",
      " 8   DataNegocio                  object \n",
      " 9   CodigoParticipanteComprador  float64\n",
      " 10  CodigoParticipanteVendedor   float64\n",
      "dtypes: float64(2), int64(5), object(4)\n",
      "memory usage: 695.0+ MB\n"
     ]
    }
   ],
   "source": [
    "data.info()"
   ]
  },
  {
   "cell_type": "code",
   "execution_count": null,
   "id": "8cc94949",
   "metadata": {},
   "outputs": [
    {
     "data": {
      "text/plain": [
       "<AxesSubplot: xlabel='QuantidadeNegociada', ylabel='PrecoNegocio'>"
      ]
     },
     "execution_count": 4,
     "metadata": {},
     "output_type": "execute_result"
    }
   ],
   "source": [
    "data.plot(kind='scatter', x='QuantidadeNegociada',y='PrecoNegocio', alpha=0.1)"
   ]
  },
  {
   "cell_type": "code",
   "execution_count": null,
   "id": "d014a5b6",
   "metadata": {},
   "outputs": [],
   "source": []
  }
 ],
 "metadata": {
  "kernelspec": {
   "display_name": "Python 3 (ipykernel)",
   "language": "python",
   "name": "python3"
  },
  "language_info": {
   "codemirror_mode": {
    "name": "ipython",
    "version": 3
   },
   "file_extension": ".py",
   "mimetype": "text/x-python",
   "name": "python",
   "nbconvert_exporter": "python",
   "pygments_lexer": "ipython3",
   "version": "3.10.12"
  }
 },
 "nbformat": 4,
 "nbformat_minor": 5
}
