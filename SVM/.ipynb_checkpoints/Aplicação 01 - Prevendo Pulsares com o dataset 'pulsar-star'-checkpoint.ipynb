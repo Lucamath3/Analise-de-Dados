{
 "cells": [
  {
   "cell_type": "markdown",
   "id": "602579f1-1772-4d30-82cb-87c4f2b596f6",
   "metadata": {
    "jp-MarkdownHeadingCollapsed": true
   },
   "source": [
    "> ### Aplicação 01 - Prevendo Pulsares com o dataset 'pulsar-star'\n",
    "\n",
    "O dataset pode ser encontrado em: https://www.kaggle.com/datasets/spacemod/pulsar-dataset?resource=download\n",
    "\n",
    "A referência da Aplicação 01 é: https://github.com/pb111/Support-Vector-Machines-Project/blob/master/Support%20Vector%20Machines%20with%20Python%20and%20Scikit-Learn.ipynb"
   ]
  },
  {
   "cell_type": "code",
   "execution_count": null,
   "id": "281804a4-d6f2-49ca-8334-a8940f6ff94f",
   "metadata": {},
   "outputs": [],
   "source": [
    "# Importando as bibliotecas necessárias\n",
    "\n",
    "import pandas as pd\n",
    "import numpy as np\n",
    "import matplotlib.pyplot as plt\n",
    "import seaborn as sns\n",
    "%matplotlib inline"
   ]
  },
  {
   "cell_type": "code",
   "execution_count": null,
   "id": "d17436e6-754b-4464-be4b-e64b671cce1b",
   "metadata": {},
   "outputs": [],
   "source": [
    "# Importação do dataset\n",
    "\n",
    "data = './datasets/pulsar_stars.csv'\n",
    "df = pd.read_csv(data)"
   ]
  },
  {
   "cell_type": "code",
   "execution_count": null,
   "id": "27a4de13-ce29-4ef0-9d18-8c64e6c07102",
   "metadata": {},
   "outputs": [],
   "source": [
    "# Análise exploratória dos dados\n",
    "df.shape\n",
    "print('O dataset possui {} instâncias e {} variáveis'.format(df.shape[0],df.shape[1]))"
   ]
  },
  {
   "cell_type": "code",
   "execution_count": null,
   "id": "a57fb5b2-3551-4047-98bc-65af7f82fca6",
   "metadata": {},
   "outputs": [],
   "source": [
    "df.head()"
   ]
  },
  {
   "cell_type": "code",
   "execution_count": null,
   "id": "b2ff2f71-ec69-4129-8926-2372a9e045d1",
   "metadata": {},
   "outputs": [],
   "source": [
    "# Renomeando as colunas para formatação dos dados\n",
    "\n",
    "\n",
    "df.columns = ['IP Mean','IP Sd', 'IP Kurtosis', 'IP Skewness',\n",
    "              'DM-SNR Mean','DM-SNR Sd','DM-SNR Kurtosis','DM-SNR Skewness',\n",
    "              'target_class']"
   ]
  },
  {
   "cell_type": "code",
   "execution_count": null,
   "id": "07091c10-1755-4a31-82b3-a5c6094b23a6",
   "metadata": {},
   "outputs": [],
   "source": [
    "nome_colunas = df.columns\n",
    "nome_colunas"
   ]
  },
  {
   "cell_type": "code",
   "execution_count": null,
   "id": "d46ad562-d70b-4278-8b2d-6e07fa6febbc",
   "metadata": {},
   "outputs": [],
   "source": [
    "df.info()"
   ]
  },
  {
   "cell_type": "code",
   "execution_count": null,
   "id": "90b6b8f7-5d5e-41c5-b354-5f272989a3a5",
   "metadata": {},
   "outputs": [],
   "source": [
    "# Verificação se há dados ausentes\n",
    "df.isnull().sum()"
   ]
  },
  {
   "cell_type": "markdown",
   "id": "da88d780-e13e-429d-a487-6f467d9e004e",
   "metadata": {},
   "source": [
    "### Criando os vetores"
   ]
  },
  {
   "cell_type": "code",
   "execution_count": null,
   "id": "9929482f-13f4-43a0-9688-90a9f766bb5c",
   "metadata": {},
   "outputs": [],
   "source": [
    "X = df.drop(['target_class'], axis=1) #remove a coluna target do dataframe\n",
    "y = df['target_class'] # atribui à y a coluna target_class do dataframe"
   ]
  },
  {
   "cell_type": "code",
   "execution_count": null,
   "id": "0ee761d7-fcdf-4e8b-9690-46bf0f71aed7",
   "metadata": {},
   "outputs": [],
   "source": [
    "from sklearn.model_selection import train_test_split\n",
    "\n",
    "X_train, X_test, y_train,y_test = train_test_split(X,y, test_size=0.2, random_state = 42)\n",
    "X_train.shape, X_test.shape"
   ]
  },
  {
   "cell_type": "code",
   "execution_count": null,
   "id": "6565a00f-5d95-4035-b93b-5b6644b058c1",
   "metadata": {},
   "outputs": [],
   "source": [
    "### Escalonando Características\n",
    "\n",
    "Essa etapa prepara os dados de treino (X_train) pelo classificador da regressão logística."
   ]
  },
  {
   "cell_type": "code",
   "execution_count": null,
   "id": "709c2942-f54d-443e-bc07-5944f3f095e2",
   "metadata": {},
   "outputs": [],
   "source": [
    "cols = X_train.columns"
   ]
  },
  {
   "cell_type": "code",
   "execution_count": null,
   "id": "3dc22a54-151b-468f-a3d0-7febd942fa86",
   "metadata": {},
   "outputs": [],
   "source": [
    "from sklearn.preprocessing import StandardScaler\n",
    "\n",
    "scaler = StandardScaler()\n",
    "X_train = scaler.fit_transform(X_train)\n",
    "X_test = scaler.transform(X_test)"
   ]
  },
  {
   "cell_type": "code",
   "execution_count": null,
   "id": "083ac0b9-4085-4373-89fe-1635a21fe8a0",
   "metadata": {},
   "outputs": [],
   "source": [
    "X_train = pd.DataFrame(X_train, columns=[cols])\n",
    "X_test = pd.DataFrame(X_test, columns=[cols])\n",
    "X_train.describe()"
   ]
  },
  {
   "cell_type": "code",
   "execution_count": null,
   "id": "769991e1-89a4-42b8-8921-f6ecdd55f233",
   "metadata": {},
   "outputs": [],
   "source": [
    "fig, ax = plt.subplots()\n",
    "\n",
    "ax.scatter(X_train['IP Mean'], X_train['IP Sd'],c=y_train,s=60)\n",
    "#ax.plot(X_train['IP Mean'], y_train,'r')\n",
    "\n",
    "#ax.set(ylim=(-2,6)) # melhora a visualização \n",
    "plt.show()"
   ]
  },
  {
   "cell_type": "markdown",
   "id": "51aafea7-0c40-489a-b868-21d124c54877",
   "metadata": {},
   "source": [
    "### Hyperparâmetros padrão do SVM"
   ]
  },
  {
   "cell_type": "code",
   "execution_count": null,
   "id": "deda6b47-f981-4aad-b114-bd7d465e2768",
   "metadata": {},
   "outputs": [],
   "source": [
    "from sklearn.svm import SVC\n",
    "from sklearn.metrics import accuracy_score\n",
    "\n",
    "# Instância da classe SVC\n",
    "classificador = SVC()\n",
    "\n",
    "# Treina o classificador com os dados préprocessados\n",
    "classificador.fit(X_train,y_train)\n",
    "\n",
    "# Faz uma predição nos dados de teste\n",
    "y_pred = classificador.predict(X_test)\n",
    "\n",
    "# calcula e imprime a Acurácia\n",
    "print('Acurácia do modelo com os hiperparâmetros padrões: {0:0.4f}'.format(accuracy_score(y_test, y_pred)))"
   ]
  },
  {
   "cell_type": "code",
   "execution_count": null,
   "id": "7195d1dc-8f0c-4199-8ec9-dfd037c9807f",
   "metadata": {},
   "outputs": [],
   "source": [
    "X_test"
   ]
  },
  {
   "cell_type": "code",
   "execution_count": null,
   "id": "fded8ff1-9876-4d77-9e22-0b06daca85cf",
   "metadata": {},
   "outputs": [],
   "source": [
    "from sklearn.decomposition import PCA\n",
    "from sklearn import svm\n",
    "import numpy as np\n",
    "import matplotlib.pyplot as plt\n",
    "\n",
    "# Reduzindo para 2D com PCA\n",
    "pca = PCA(n_components=2)\n",
    "X_train_pca = pca.fit_transform(X_train)\n",
    "\n",
    "# Treinando o SVM com os dados transformados\n",
    "clf = svm.SVC(kernel='linear')  # Use o kernel que você treinou\n",
    "clf.fit(X_train_pca, y_train)\n",
    "\n",
    "# Criando uma malha de pontos no espaço PCA\n",
    "x_min, x_max = X_train_pca[:, 0].min() - 1, X_train_pca[:, 0].max() + 1\n",
    "y_min, y_max = X_train_pca[:, 1].min() - 1, X_train_pca[:, 1].max() + 1\n",
    "xx, yy = np.meshgrid(np.linspace(x_min, x_max, 500),\n",
    "                     np.linspace(y_min, y_max, 500))\n",
    "\n",
    "# Classificando cada ponto na malha\n",
    "Z = clf.predict(np.c_[xx.ravel(), yy.ravel()])\n",
    "Z = Z.reshape(xx.shape)\n",
    "\n",
    "# Visualizando graficamente\n",
    "fig, ax = plt.subplots()\n",
    "ax.contourf(xx, yy, Z, alpha=0.8)  # Regiões de decisão\n",
    "ax.scatter(X_train_pca[:, 0], X_train_pca[:, 1], c=y_train, s=60, edgecolors='k')  # Dados de treino\n",
    "\n",
    "plt.xlabel('PCA 1')\n",
    "plt.ylabel('PCA 2')\n",
    "plt.title('Hiperplano do SVM após PCA')\n",
    "plt.show()"
   ]
  },
  {
   "cell_type": "markdown",
   "id": "37548384-b676-4946-a12b-c16f187ff550",
   "metadata": {},
   "source": [
    "### Executando o SVM com o kernel linear"
   ]
  },
  {
   "cell_type": "code",
   "execution_count": null,
   "id": "5a7e80d6-ff96-4bbc-a87a-b3bdfd2c7b34",
   "metadata": {},
   "outputs": [],
   "source": [
    "classificador2 = SVC(kernel='linear').fit(X_train, y_train)"
   ]
  },
  {
   "cell_type": "code",
   "execution_count": null,
   "id": "3457df6a-eabe-4644-a63b-be7a608d4f31",
   "metadata": {},
   "outputs": [],
   "source": [
    "classificador2.coef_"
   ]
  },
  {
   "cell_type": "code",
   "execution_count": null,
   "id": "5b837657-98d6-4bf9-b1ea-11b9a4cf67bb",
   "metadata": {},
   "outputs": [],
   "source": [
    "# instantiate classifier with linear kernel and C=1.0\n",
    "linear_svc=SVC(kernel='linear', C=100.0) \n",
    "\n",
    "\n",
    "# fit classifier to training set\n",
    "linear_svc.fit(X_train,y_train)\n",
    "\n",
    "\n",
    "# make predictions on test set\n",
    "y_pred_test=linear_svc.predict(X_test)\n",
    "\n",
    "\n",
    "# compute and print accuracy score\n",
    "print('Model accuracy score with linear kernel and C=1.0 : {0:0.4f}'. format(accuracy_score(y_test, y_pred_test)))"
   ]
  },
  {
   "cell_type": "code",
   "execution_count": null,
   "id": "67ebe405-dbdd-46a3-b49a-d0fea82fe925",
   "metadata": {},
   "outputs": [],
   "source": [
    "linear_svc.predict([[1.227131,0.348453,-1.274718,-0.308276,-0.324496,-0.437893,-0.045197,-0.248413]])"
   ]
  },
  {
   "cell_type": "markdown",
   "id": "5fedcad7-2625-4af7-ae9f-d566a3ebae44",
   "metadata": {},
   "source": [
    "### Matriz de Confusão"
   ]
  },
  {
   "cell_type": "code",
   "execution_count": null,
   "id": "b2f11566-a111-478c-a016-5c83c0c0f2e7",
   "metadata": {},
   "outputs": [],
   "source": [
    "from sklearn.metrics import confusion_matrix\n",
    "\n",
    "cm = confusion_matrix(y_test, y_pred_test)\n",
    "\n",
    "cm_matrix = pd.DataFrame(data=cm, columns=['Actual Positive:1', 'Actual Negative:0'], \n",
    "                                 index=['Predict Positive:1', 'Predict Negative:0'])\n",
    "\n",
    "sns.heatmap(cm_matrix, annot=True, fmt='d', cmap='YlGnBu')"
   ]
  }
 ],
 "metadata": {
  "kernelspec": {
   "display_name": "Python 3 (ipykernel)",
   "language": "python",
   "name": "python3"
  },
  "language_info": {
   "codemirror_mode": {
    "name": "ipython",
    "version": 3
   },
   "file_extension": ".py",
   "mimetype": "text/x-python",
   "name": "python",
   "nbconvert_exporter": "python",
   "pygments_lexer": "ipython3",
   "version": "3.10.12"
  }
 },
 "nbformat": 4,
 "nbformat_minor": 5
}
