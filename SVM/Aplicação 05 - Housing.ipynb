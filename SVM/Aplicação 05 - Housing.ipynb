{
 "cells": [
  {
   "cell_type": "markdown",
   "id": "96487427-c877-4131-bd15-276df44bb329",
   "metadata": {},
   "source": [
    ">## Aplicação 05 - Housing\n",
    "\n",
    "O housing dataset possui dados sobre casas. Os objetivos deste notebook são prever, utilizando SVM, o preço das casas utilizando no máximo dois parâmetros como base.\n",
    "O dataset foi obtido em: https://www.kaggle.com/datasets/camnugent/california-housing-prices"
   ]
  },
  {
   "cell_type": "code",
   "execution_count": 1,
   "id": "46ca9bae-d85e-4fb2-9f6e-1625d70d73b7",
   "metadata": {},
   "outputs": [],
   "source": [
    "import pandas as pd\n",
    "import seaborn as sns\n",
    "from sklearn.model_selection import train_test_split\n",
    "from sklearn.svm import SVC\n",
    "from sklearn.metrics import confusion_matrix\n",
    "from sklearn.preprocessing import LabelEncoder\n",
    "\n",
    "#leitura do csv\n",
    "dataset = './datasets/housing.csv'\n",
    "data = pd.read_csv(dataset)\n"
   ]
  },
  {
   "cell_type": "code",
   "execution_count": 2,
   "id": "1f6236f1-9bd8-4b3e-97dd-0914a1024ea2",
   "metadata": {},
   "outputs": [
    {
     "data": {
      "text/html": [
       "<div>\n",
       "<style scoped>\n",
       "    .dataframe tbody tr th:only-of-type {\n",
       "        vertical-align: middle;\n",
       "    }\n",
       "\n",
       "    .dataframe tbody tr th {\n",
       "        vertical-align: top;\n",
       "    }\n",
       "\n",
       "    .dataframe thead th {\n",
       "        text-align: right;\n",
       "    }\n",
       "</style>\n",
       "<table border=\"1\" class=\"dataframe\">\n",
       "  <thead>\n",
       "    <tr style=\"text-align: right;\">\n",
       "      <th></th>\n",
       "      <th>longitude</th>\n",
       "      <th>latitude</th>\n",
       "      <th>housing_median_age</th>\n",
       "      <th>total_rooms</th>\n",
       "      <th>total_bedrooms</th>\n",
       "      <th>population</th>\n",
       "      <th>households</th>\n",
       "      <th>median_income</th>\n",
       "      <th>median_house_value</th>\n",
       "      <th>ocean_proximity</th>\n",
       "    </tr>\n",
       "  </thead>\n",
       "  <tbody>\n",
       "    <tr>\n",
       "      <th>0</th>\n",
       "      <td>-122.23</td>\n",
       "      <td>37.88</td>\n",
       "      <td>41.0</td>\n",
       "      <td>880.0</td>\n",
       "      <td>129.0</td>\n",
       "      <td>322.0</td>\n",
       "      <td>126.0</td>\n",
       "      <td>8.3252</td>\n",
       "      <td>452600.0</td>\n",
       "      <td>NEAR BAY</td>\n",
       "    </tr>\n",
       "    <tr>\n",
       "      <th>1</th>\n",
       "      <td>-122.22</td>\n",
       "      <td>37.86</td>\n",
       "      <td>21.0</td>\n",
       "      <td>7099.0</td>\n",
       "      <td>1106.0</td>\n",
       "      <td>2401.0</td>\n",
       "      <td>1138.0</td>\n",
       "      <td>8.3014</td>\n",
       "      <td>358500.0</td>\n",
       "      <td>NEAR BAY</td>\n",
       "    </tr>\n",
       "    <tr>\n",
       "      <th>2</th>\n",
       "      <td>-122.24</td>\n",
       "      <td>37.85</td>\n",
       "      <td>52.0</td>\n",
       "      <td>1467.0</td>\n",
       "      <td>190.0</td>\n",
       "      <td>496.0</td>\n",
       "      <td>177.0</td>\n",
       "      <td>7.2574</td>\n",
       "      <td>352100.0</td>\n",
       "      <td>NEAR BAY</td>\n",
       "    </tr>\n",
       "    <tr>\n",
       "      <th>3</th>\n",
       "      <td>-122.25</td>\n",
       "      <td>37.85</td>\n",
       "      <td>52.0</td>\n",
       "      <td>1274.0</td>\n",
       "      <td>235.0</td>\n",
       "      <td>558.0</td>\n",
       "      <td>219.0</td>\n",
       "      <td>5.6431</td>\n",
       "      <td>341300.0</td>\n",
       "      <td>NEAR BAY</td>\n",
       "    </tr>\n",
       "    <tr>\n",
       "      <th>4</th>\n",
       "      <td>-122.25</td>\n",
       "      <td>37.85</td>\n",
       "      <td>52.0</td>\n",
       "      <td>1627.0</td>\n",
       "      <td>280.0</td>\n",
       "      <td>565.0</td>\n",
       "      <td>259.0</td>\n",
       "      <td>3.8462</td>\n",
       "      <td>342200.0</td>\n",
       "      <td>NEAR BAY</td>\n",
       "    </tr>\n",
       "  </tbody>\n",
       "</table>\n",
       "</div>"
      ],
      "text/plain": [
       "   longitude  latitude  housing_median_age  total_rooms  total_bedrooms  \\\n",
       "0    -122.23     37.88                41.0        880.0           129.0   \n",
       "1    -122.22     37.86                21.0       7099.0          1106.0   \n",
       "2    -122.24     37.85                52.0       1467.0           190.0   \n",
       "3    -122.25     37.85                52.0       1274.0           235.0   \n",
       "4    -122.25     37.85                52.0       1627.0           280.0   \n",
       "\n",
       "   population  households  median_income  median_house_value ocean_proximity  \n",
       "0       322.0       126.0         8.3252            452600.0        NEAR BAY  \n",
       "1      2401.0      1138.0         8.3014            358500.0        NEAR BAY  \n",
       "2       496.0       177.0         7.2574            352100.0        NEAR BAY  \n",
       "3       558.0       219.0         5.6431            341300.0        NEAR BAY  \n",
       "4       565.0       259.0         3.8462            342200.0        NEAR BAY  "
      ]
     },
     "execution_count": 2,
     "metadata": {},
     "output_type": "execute_result"
    }
   ],
   "source": [
    "# Visualização do dataset\n",
    "data.head()"
   ]
  },
  {
   "cell_type": "code",
   "execution_count": 3,
   "id": "2c04851d-21cb-4a78-a9b8-b2abd82419f9",
   "metadata": {},
   "outputs": [
    {
     "name": "stdout",
     "output_type": "stream",
     "text": [
      "<class 'pandas.core.frame.DataFrame'>\n",
      "RangeIndex: 20640 entries, 0 to 20639\n",
      "Data columns (total 10 columns):\n",
      " #   Column              Non-Null Count  Dtype  \n",
      "---  ------              --------------  -----  \n",
      " 0   longitude           20640 non-null  float64\n",
      " 1   latitude            20640 non-null  float64\n",
      " 2   housing_median_age  20640 non-null  float64\n",
      " 3   total_rooms         20640 non-null  float64\n",
      " 4   total_bedrooms      20433 non-null  float64\n",
      " 5   population          20640 non-null  float64\n",
      " 6   households          20640 non-null  float64\n",
      " 7   median_income       20640 non-null  float64\n",
      " 8   median_house_value  20640 non-null  float64\n",
      " 9   ocean_proximity     20640 non-null  object \n",
      "dtypes: float64(9), object(1)\n",
      "memory usage: 1.6+ MB\n"
     ]
    }
   ],
   "source": [
    "# Informações dos dados\n",
    "data.info()"
   ]
  },
  {
   "cell_type": "code",
   "execution_count": 4,
   "id": "726d0dbd-723d-4bfc-851b-89e296738600",
   "metadata": {},
   "outputs": [
    {
     "data": {
      "text/plain": [
       "array(['NEAR BAY', '<1H OCEAN', 'INLAND', 'NEAR OCEAN', 'ISLAND'],\n",
       "      dtype=object)"
      ]
     },
     "execution_count": 4,
     "metadata": {},
     "output_type": "execute_result"
    }
   ],
   "source": [
    "# O rótulo ocean_proximity apresenta dados não numéricos (descritivos)\n",
    "data['ocean_proximity'].unique()"
   ]
  },
  {
   "cell_type": "markdown",
   "id": "53b7679d-1a2b-4dac-a525-77eaf1ad5b36",
   "metadata": {},
   "source": [
    "#### Lidando com os dados descritivos"
   ]
  },
  {
   "cell_type": "code",
   "execution_count": 5,
   "id": "fc3344c1-4c53-42f9-909b-3f1821c48fb7",
   "metadata": {},
   "outputs": [
    {
     "data": {
      "text/html": [
       "<div>\n",
       "<style scoped>\n",
       "    .dataframe tbody tr th:only-of-type {\n",
       "        vertical-align: middle;\n",
       "    }\n",
       "\n",
       "    .dataframe tbody tr th {\n",
       "        vertical-align: top;\n",
       "    }\n",
       "\n",
       "    .dataframe thead th {\n",
       "        text-align: right;\n",
       "    }\n",
       "</style>\n",
       "<table border=\"1\" class=\"dataframe\">\n",
       "  <thead>\n",
       "    <tr style=\"text-align: right;\">\n",
       "      <th></th>\n",
       "      <th>longitude</th>\n",
       "      <th>latitude</th>\n",
       "      <th>housing_median_age</th>\n",
       "      <th>total_rooms</th>\n",
       "      <th>total_bedrooms</th>\n",
       "      <th>population</th>\n",
       "      <th>households</th>\n",
       "      <th>median_income</th>\n",
       "      <th>median_house_value</th>\n",
       "      <th>ocean_proximity</th>\n",
       "    </tr>\n",
       "  </thead>\n",
       "  <tbody>\n",
       "    <tr>\n",
       "      <th>0</th>\n",
       "      <td>-122.23</td>\n",
       "      <td>37.88</td>\n",
       "      <td>41.0</td>\n",
       "      <td>880.0</td>\n",
       "      <td>129.0</td>\n",
       "      <td>322.0</td>\n",
       "      <td>126.0</td>\n",
       "      <td>8.3252</td>\n",
       "      <td>452600.0</td>\n",
       "      <td>3</td>\n",
       "    </tr>\n",
       "    <tr>\n",
       "      <th>1</th>\n",
       "      <td>-122.22</td>\n",
       "      <td>37.86</td>\n",
       "      <td>21.0</td>\n",
       "      <td>7099.0</td>\n",
       "      <td>1106.0</td>\n",
       "      <td>2401.0</td>\n",
       "      <td>1138.0</td>\n",
       "      <td>8.3014</td>\n",
       "      <td>358500.0</td>\n",
       "      <td>3</td>\n",
       "    </tr>\n",
       "    <tr>\n",
       "      <th>2</th>\n",
       "      <td>-122.24</td>\n",
       "      <td>37.85</td>\n",
       "      <td>52.0</td>\n",
       "      <td>1467.0</td>\n",
       "      <td>190.0</td>\n",
       "      <td>496.0</td>\n",
       "      <td>177.0</td>\n",
       "      <td>7.2574</td>\n",
       "      <td>352100.0</td>\n",
       "      <td>3</td>\n",
       "    </tr>\n",
       "    <tr>\n",
       "      <th>3</th>\n",
       "      <td>-122.25</td>\n",
       "      <td>37.85</td>\n",
       "      <td>52.0</td>\n",
       "      <td>1274.0</td>\n",
       "      <td>235.0</td>\n",
       "      <td>558.0</td>\n",
       "      <td>219.0</td>\n",
       "      <td>5.6431</td>\n",
       "      <td>341300.0</td>\n",
       "      <td>3</td>\n",
       "    </tr>\n",
       "    <tr>\n",
       "      <th>4</th>\n",
       "      <td>-122.25</td>\n",
       "      <td>37.85</td>\n",
       "      <td>52.0</td>\n",
       "      <td>1627.0</td>\n",
       "      <td>280.0</td>\n",
       "      <td>565.0</td>\n",
       "      <td>259.0</td>\n",
       "      <td>3.8462</td>\n",
       "      <td>342200.0</td>\n",
       "      <td>3</td>\n",
       "    </tr>\n",
       "  </tbody>\n",
       "</table>\n",
       "</div>"
      ],
      "text/plain": [
       "   longitude  latitude  housing_median_age  total_rooms  total_bedrooms  \\\n",
       "0    -122.23     37.88                41.0        880.0           129.0   \n",
       "1    -122.22     37.86                21.0       7099.0          1106.0   \n",
       "2    -122.24     37.85                52.0       1467.0           190.0   \n",
       "3    -122.25     37.85                52.0       1274.0           235.0   \n",
       "4    -122.25     37.85                52.0       1627.0           280.0   \n",
       "\n",
       "   population  households  median_income  median_house_value  ocean_proximity  \n",
       "0       322.0       126.0         8.3252            452600.0                3  \n",
       "1      2401.0      1138.0         8.3014            358500.0                3  \n",
       "2       496.0       177.0         7.2574            352100.0                3  \n",
       "3       558.0       219.0         5.6431            341300.0                3  \n",
       "4       565.0       259.0         3.8462            342200.0                3  "
      ]
     },
     "execution_count": 5,
     "metadata": {},
     "output_type": "execute_result"
    }
   ],
   "source": [
    "# Criando o encoder para os dados de ocean_proximity\n",
    "lb = LabelEncoder()\n",
    "encoder = lb.fit(data['ocean_proximity'])\n",
    "\n",
    "# Alterando o dataframe com a nova codificação\n",
    "data['ocean_proximity'] = encoder.fit_transform(data['ocean_proximity'])\n",
    "data.head()\n",
    "                                                "
   ]
  },
  {
   "cell_type": "markdown",
   "id": "567853b0-a611-4ecd-80bf-176e212f3f82",
   "metadata": {},
   "source": [
    "#### Limpando os dados nulos"
   ]
  },
  {
   "cell_type": "code",
   "execution_count": 26,
   "id": "330e1b82-8ac3-4a81-aa72-a5e0c0838ffe",
   "metadata": {},
   "outputs": [
    {
     "data": {
      "text/plain": [
       "Index([], dtype='object')"
      ]
     },
     "execution_count": 26,
     "metadata": {},
     "output_type": "execute_result"
    }
   ],
   "source": [
    "# faz com que as colunas que possuem mais de 10% dos dados nulos sejam armazenadas em valores_nulos\n",
    "valores_nulos = data.columns[(data.isnull().sum() / data.shape[0]) > 0.1]"
   ]
  },
  {
   "cell_type": "code",
   "execution_count": 28,
   "id": "a7879cba-f4dc-46d2-9f35-649c007bc7c0",
   "metadata": {},
   "outputs": [],
   "source": [
    "data = data.drop(valores_nulos)"
   ]
  },
  {
   "cell_type": "code",
   "execution_count": 29,
   "id": "831e6b92-23c1-49f3-b819-c7239fad419e",
   "metadata": {},
   "outputs": [
    {
     "data": {
      "text/plain": [
       "total_bedrooms        207\n",
       "longitude               0\n",
       "latitude                0\n",
       "housing_median_age      0\n",
       "total_rooms             0\n",
       "population              0\n",
       "households              0\n",
       "median_income           0\n",
       "median_house_value      0\n",
       "ocean_proximity         0\n",
       "dtype: int64"
      ]
     },
     "execution_count": 29,
     "metadata": {},
     "output_type": "execute_result"
    }
   ],
   "source": [
    "# Verifica a quantidade de valores nulos ainda presentes (mesmo após eliminar as colunas com mais de 10%)\n",
    "data.isnull().sum().sort_values(ascending=False)"
   ]
  },
  {
   "cell_type": "markdown",
   "id": "89b281ed-1718-4620-8394-9154604710cc",
   "metadata": {},
   "source": [
    ">Ainda temos dados vazios em total_bedrooms. Uma boa pratica é substituir esses dados ausentes pelo valor -1"
   ]
  },
  {
   "cell_type": "code",
   "execution_count": 30,
   "id": "dd940a62-3e49-4266-9123-d969e25d7c8e",
   "metadata": {},
   "outputs": [],
   "source": [
    "# o método fillna(x) substitui tudo que for null pelo valor entre parênteses\n",
    "data = data.fillna(-1)"
   ]
  },
  {
   "cell_type": "code",
   "execution_count": 31,
   "id": "22a7cdaf-d247-495b-9f21-cd92e7084ec3",
   "metadata": {},
   "outputs": [
    {
     "data": {
      "text/plain": [
       "longitude             0\n",
       "latitude              0\n",
       "housing_median_age    0\n",
       "total_rooms           0\n",
       "total_bedrooms        0\n",
       "population            0\n",
       "households            0\n",
       "median_income         0\n",
       "median_house_value    0\n",
       "ocean_proximity       0\n",
       "dtype: int64"
      ]
     },
     "execution_count": 31,
     "metadata": {},
     "output_type": "execute_result"
    }
   ],
   "source": [
    "data.isnull().sum().sort_values(ascending=False)"
   ]
  },
  {
   "cell_type": "markdown",
   "id": "d1758651-7baf-4f23-bd8c-f6352af9af15",
   "metadata": {},
   "source": [
    "#### Separando os daos de Treino e Teste"
   ]
  },
  {
   "cell_type": "code",
   "execution_count": 32,
   "id": "ea3b6354-2e21-4fe3-8a26-6a8b64918c9b",
   "metadata": {},
   "outputs": [],
   "source": [
    "# X é o conjunto de dados sem o parâmetro que queremos prever\n",
    "# y é o conjunto de dados alvo (queremos preve-lo)\n",
    "X = data.drop('median_house_value', axis=1)\n",
    "y = data.median_house_value"
   ]
  },
  {
   "cell_type": "code",
   "execution_count": 33,
   "id": "bc099aff-1458-4bc7-bc94-5a6e3fc8728a",
   "metadata": {},
   "outputs": [],
   "source": [
    "# Divisão dos dados de treino e teste\n",
    "X_train, X_test, y_train, y_test = train_test_split(X,y,test_size=0.2,random_state=42)"
   ]
  },
  {
   "cell_type": "markdown",
   "id": "476cb19c-7cf5-4b4d-93ed-c14e329d70ba",
   "metadata": {},
   "source": [
    "> Agora todos os valores estão tratados e é possível começar a selecionar os algoritmos para criação do modelo de previsão."
   ]
  },
  {
   "cell_type": "markdown",
   "id": "b7eede1e-66f7-49fa-b492-2ef99002892a",
   "metadata": {},
   "source": [
    "#### Selecionando os Algoritmos"
   ]
  },
  {
   "cell_type": "markdown",
   "id": "a8bccfd6-d9cc-48fe-bb2b-471d7a8afd2f",
   "metadata": {},
   "source": [
    "> #### Regressão Linear\n"
   ]
  },
  {
   "cell_type": "code",
   "execution_count": 34,
   "id": "cfc71c0f-32c0-4d6e-b4dc-7c9a29bb0edd",
   "metadata": {},
   "outputs": [],
   "source": [
    "from sklearn.linear_model import LinearRegression"
   ]
  },
  {
   "cell_type": "code",
   "execution_count": 35,
   "id": "e00e6e8c-ea6b-4059-a73d-bc4d1869febd",
   "metadata": {},
   "outputs": [],
   "source": [
    "# Criando o regressor com os dados de treino\n",
    "r_linear = LinearRegression().fit(X_train,y_train)"
   ]
  },
  {
   "cell_type": "code",
   "execution_count": 36,
   "id": "062982f9-bf2e-453d-a18d-a7b12be6446a",
   "metadata": {},
   "outputs": [],
   "source": [
    "# Avaliando o regressor com os dados de teste\n",
    "y_pred = r_linear.predict(X_test)"
   ]
  },
  {
   "cell_type": "markdown",
   "id": "70e7caca-08a0-4b98-b29e-6c836caba664",
   "metadata": {},
   "source": [
    "> #### Arvore de Regressão"
   ]
  },
  {
   "cell_type": "code",
   "execution_count": 37,
   "id": "a29b478f-584f-4225-8fbd-8d0e9e22d9f0",
   "metadata": {},
   "outputs": [],
   "source": [
    "from sklearn import tree"
   ]
  },
  {
   "cell_type": "code",
   "execution_count": 41,
   "id": "bf3faa9b-73f7-4f05-b6bc-60996f9b48b0",
   "metadata": {},
   "outputs": [],
   "source": [
    "r_arvore = tree.DecisionTreeRegressor(random_state=42).fit(X_train,y_train)"
   ]
  },
  {
   "cell_type": "code",
   "execution_count": 42,
   "id": "9f197a75-1380-4604-9725-327f0c2c431b",
   "metadata": {},
   "outputs": [],
   "source": [
    "y_pred_arvore = r_arvore.predict(X_test)"
   ]
  },
  {
   "cell_type": "markdown",
   "id": "679d65ec-573f-4ac1-9395-6e76d375c417",
   "metadata": {},
   "source": [
    "> ### KNN"
   ]
  },
  {
   "cell_type": "code",
   "execution_count": 43,
   "id": "3416a1ee-2536-45a3-a7e2-c1f80aeb3fcf",
   "metadata": {},
   "outputs": [],
   "source": [
    "from sklearn.neighbors import KNeighborsRegressor"
   ]
  },
  {
   "cell_type": "code",
   "execution_count": 46,
   "id": "bf5131d0-1492-4d59-ad3c-699cb11314e7",
   "metadata": {},
   "outputs": [],
   "source": [
    "r_knn = KNeighborsRegressor(n_neighbors=2).fit(X_train,y_train)"
   ]
  },
  {
   "cell_type": "code",
   "execution_count": 47,
   "id": "d3586440-d624-45f0-a9c6-c5e7ddef4921",
   "metadata": {},
   "outputs": [],
   "source": [
    "y_pred_knn = r_knn.predict(X_test)"
   ]
  },
  {
   "cell_type": "markdown",
   "id": "bc85d551-13ce-4289-8d2d-485e415ff0b8",
   "metadata": {},
   "source": [
    "### Avaliando os modelos criados"
   ]
  },
  {
   "cell_type": "markdown",
   "id": "8405ded9-9d8b-418e-b75b-c48a6a6409a4",
   "metadata": {},
   "source": [
    "> ### Erro Médio Quadráticos (RMS) e Erro Médio Absoluto"
   ]
  },
  {
   "cell_type": "code",
   "execution_count": 48,
   "id": "56ac547b-2765-40f5-b87d-d06a101e3b7c",
   "metadata": {},
   "outputs": [],
   "source": [
    "from sklearn.metrics import mean_absolute_error"
   ]
  },
  {
   "cell_type": "code",
   "execution_count": 50,
   "id": "9d16cdb1-85de-43cd-b8c2-856bfa45101f",
   "metadata": {},
   "outputs": [],
   "source": [
    "from sklearn.metrics import mean_squared_error"
   ]
  },
  {
   "cell_type": "code",
   "execution_count": 53,
   "id": "c82c6939-3bde-463e-acd6-f9f498a1a187",
   "metadata": {},
   "outputs": [
    {
     "name": "stdout",
     "output_type": "stream",
     "text": [
      "52628.98063301301\n",
      "5251270210.630704\n"
     ]
    }
   ],
   "source": [
    "# Regressão\n",
    "print(mean_absolute_error(y_test,y_pred))\n",
    "print(mean_squared_error(y_test,y_pred))"
   ]
  },
  {
   "cell_type": "code",
   "execution_count": 55,
   "id": "9e7124db-9710-46c1-bc97-9c7cff44449e",
   "metadata": {},
   "outputs": [
    {
     "name": "stdout",
     "output_type": "stream",
     "text": [
      "44061.62524224806\n",
      "4817251502.855863\n"
     ]
    }
   ],
   "source": [
    "# Árvore\n",
    "print(mean_absolute_error(y_test,y_pred_arvore))\n",
    "print(mean_squared_error(y_test,y_pred_arvore))"
   ]
  },
  {
   "cell_type": "code",
   "execution_count": 56,
   "id": "c5e13a5c-e389-4180-b788-64f433be2b37",
   "metadata": {},
   "outputs": [
    {
     "name": "stdout",
     "output_type": "stream",
     "text": [
      "86142.76768410853\n",
      "12615998415.737646\n"
     ]
    }
   ],
   "source": [
    "# KNN\n",
    "print(mean_absolute_error(y_test,y_pred_knn))\n",
    "print(mean_squared_error(y_test,y_pred_knn))"
   ]
  }
 ],
 "metadata": {
  "kernelspec": {
   "display_name": "Python 3 (ipykernel)",
   "language": "python",
   "name": "python3"
  },
  "language_info": {
   "codemirror_mode": {
    "name": "ipython",
    "version": 3
   },
   "file_extension": ".py",
   "mimetype": "text/x-python",
   "name": "python",
   "nbconvert_exporter": "python",
   "pygments_lexer": "ipython3",
   "version": "3.10.12"
  }
 },
 "nbformat": 4,
 "nbformat_minor": 5
}
