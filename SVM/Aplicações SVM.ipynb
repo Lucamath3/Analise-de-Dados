{
 "cells": [
  {
   "cell_type": "markdown",
   "id": "af9269c7-0ae0-4e2a-b138-c08d605b645b",
   "metadata": {},
   "source": [
    "# Aplicações SVM"
   ]
  },
  {
   "cell_type": "markdown",
   "id": "accb93e9-baff-46b7-8eda-e2287e800797",
   "metadata": {},
   "source": [
    "Descrição: A ideia deste notebook é colocar em prática os conceitos estudados sobre as Máquinas de Vetor Suporte (SVM), utilizando dados diversos.\n",
    "Autor:\n",
    "Data:"
   ]
  },
  {
   "cell_type": "markdown",
   "id": "2235800f-12ff-4277-8163-433f87edf6ba",
   "metadata": {
    "jp-MarkdownHeadingCollapsed": true
   },
   "source": [
    "> ### Aplicação 01 - Prevendo Pulsares com o dataset 'pulsar-star'\n",
    "\n",
    "O dataset pode ser encontrado em: https://www.kaggle.com/datasets/spacemod/pulsar-dataset?resource=download\n",
    "\n",
    "A referência da Aplicação 01 é: https://github.com/pb111/Support-Vector-Machines-Project/blob/master/Support%20Vector%20Machines%20with%20Python%20and%20Scikit-Learn.ipynb"
   ]
  },
  {
   "cell_type": "code",
   "execution_count": null,
   "id": "cbb65d2c-144e-4cfb-a348-89061847e262",
   "metadata": {},
   "outputs": [],
   "source": [
    "# Importando as bibliotecas necessárias\n",
    "\n",
    "import pandas as pd\n",
    "import numpy as np\n",
    "import matplotlib.pyplot as plt\n",
    "import seaborn as sns\n",
    "%matplotlib inline"
   ]
  },
  {
   "cell_type": "code",
   "execution_count": null,
   "id": "13b432f2-aa1d-4974-a9bb-f38dd4c251ca",
   "metadata": {},
   "outputs": [],
   "source": [
    "# Importação do dataset\n",
    "\n",
    "data = './datasets/pulsar_stars.csv'\n",
    "df = pd.read_csv(data)"
   ]
  },
  {
   "cell_type": "code",
   "execution_count": null,
   "id": "21123085-dcf5-46ee-8293-703bb21de00e",
   "metadata": {},
   "outputs": [],
   "source": [
    "# Análise exploratória dos dados\n",
    "df.shape\n",
    "print('O dataset possui {} instâncias e {} variáveis'.format(df.shape[0],df.shape[1]))"
   ]
  },
  {
   "cell_type": "code",
   "execution_count": null,
   "id": "6acadb3a-374f-4b01-afb4-67a133a914c0",
   "metadata": {},
   "outputs": [],
   "source": [
    "df.head()"
   ]
  },
  {
   "cell_type": "code",
   "execution_count": null,
   "id": "7b59750f-fdbb-415a-a2e7-6ab3aaddbf02",
   "metadata": {},
   "outputs": [],
   "source": [
    "# Renomeando as colunas para formatação dos dados\n",
    "\n",
    "\n",
    "df.columns = ['IP Mean','IP Sd', 'IP Kurtosis', 'IP Skewness',\n",
    "              'DM-SNR Mean','DM-SNR Sd','DM-SNR Kurtosis','DM-SNR Skewness',\n",
    "              'target_class']"
   ]
  },
  {
   "cell_type": "code",
   "execution_count": null,
   "id": "65f1cacc-5572-48d2-b287-57d41017050e",
   "metadata": {},
   "outputs": [],
   "source": [
    "nome_colunas = df.columns\n",
    "nome_colunas"
   ]
  },
  {
   "cell_type": "code",
   "execution_count": null,
   "id": "36fad021-0e41-4bb5-9cc1-8a86881f0c6e",
   "metadata": {},
   "outputs": [],
   "source": [
    "df.info()"
   ]
  },
  {
   "cell_type": "code",
   "execution_count": null,
   "id": "6efc1003-c21a-427a-b4ac-5b197c9efaa2",
   "metadata": {},
   "outputs": [],
   "source": [
    "# Verificação se há dados ausentes\n",
    "df.isnull().sum()"
   ]
  },
  {
   "cell_type": "markdown",
   "id": "ae7de5d3-38df-4cd0-9d4e-ffa3de6004f5",
   "metadata": {},
   "source": [
    "### Criando os vetores"
   ]
  },
  {
   "cell_type": "code",
   "execution_count": null,
   "id": "010d9fcb-60e9-41b2-baa6-6a79e6d31911",
   "metadata": {},
   "outputs": [],
   "source": [
    "X = df.drop(['target_class'], axis=1) #remove a coluna target do dataframe\n",
    "y = df['target_class'] # atribui à y a coluna target_class do dataframe"
   ]
  },
  {
   "cell_type": "code",
   "execution_count": null,
   "id": "27e34697-78e4-4992-8591-9d745463e042",
   "metadata": {},
   "outputs": [],
   "source": [
    "from sklearn.model_selection import train_test_split\n",
    "\n",
    "X_train, X_test, y_train,y_test = train_test_split(X,y, test_size=0.2, random_state = 42)\n",
    "X_train.shape, X_test.shape"
   ]
  },
  {
   "cell_type": "markdown",
   "id": "87fc1146-7b45-4643-b953-ea4a7a90d724",
   "metadata": {},
   "source": [
    "### Escalonando Características\n",
    "\n",
    "Essa etapa prepara os dados de treino (X_train) pelo classificador da regressão logística."
   ]
  },
  {
   "cell_type": "code",
   "execution_count": null,
   "id": "57ff2921-8fd6-4067-b929-8e3b87dce65a",
   "metadata": {},
   "outputs": [],
   "source": [
    "cols = X_train.columns"
   ]
  },
  {
   "cell_type": "code",
   "execution_count": null,
   "id": "00c46a5f-17c0-4df6-8bcb-4934cc8fdd43",
   "metadata": {},
   "outputs": [],
   "source": [
    "from sklearn.preprocessing import StandardScaler\n",
    "\n",
    "scaler = StandardScaler()\n",
    "X_train = scaler.fit_transform(X_train)\n",
    "X_test = scaler.transform(X_test)"
   ]
  },
  {
   "cell_type": "code",
   "execution_count": null,
   "id": "77283a19-c966-40ab-a807-f2089bb83607",
   "metadata": {},
   "outputs": [],
   "source": [
    "X_train = pd.DataFrame(X_train, columns=[cols])\n",
    "X_test = pd.DataFrame(X_test, columns=[cols])\n",
    "X_train.describe()"
   ]
  },
  {
   "cell_type": "code",
   "execution_count": null,
   "id": "50b09221-25b9-4cf7-ac77-de007aac3013",
   "metadata": {},
   "outputs": [],
   "source": [
    "fig, ax = plt.subplots()\n",
    "\n",
    "ax.scatter(X_train['IP Mean'], X_train['IP Sd'],c=y_train,s=60)\n",
    "#ax.plot(X_train['IP Mean'], y_train,'r')\n",
    "\n",
    "#ax.set(ylim=(-2,6)) # melhora a visualização \n",
    "plt.show()"
   ]
  },
  {
   "cell_type": "markdown",
   "id": "877ac0f8-9883-4b97-852a-0f7811d94c46",
   "metadata": {},
   "source": [
    "### Hyperparâmetros padrão do SVM"
   ]
  },
  {
   "cell_type": "code",
   "execution_count": null,
   "id": "23297f0e-7ddf-49cb-aa08-b672cf4186be",
   "metadata": {},
   "outputs": [],
   "source": [
    "from sklearn.svm import SVC\n",
    "from sklearn.metrics import accuracy_score\n",
    "\n",
    "# Instância da classe SVC\n",
    "classificador = SVC()\n",
    "\n",
    "# Treina o classificador com os dados préprocessados\n",
    "classificador.fit(X_train,y_train)\n",
    "\n",
    "# Faz uma predição nos dados de teste\n",
    "y_pred = classificador.predict(X_test)\n",
    "\n",
    "# calcula e imprime a Acurácia\n",
    "print('Acurácia do modelo com os hiperparâmetros padrões: {0:0.4f}'.format(accuracy_score(y_test, y_pred)))\n",
    "\n"
   ]
  },
  {
   "cell_type": "code",
   "execution_count": null,
   "id": "513e4126-3afd-4e42-9fb3-31f55e84277e",
   "metadata": {},
   "outputs": [],
   "source": [
    "X_test"
   ]
  },
  {
   "cell_type": "code",
   "execution_count": null,
   "id": "180905d2-b166-41d4-a98a-3dd7f2797708",
   "metadata": {},
   "outputs": [],
   "source": [
    "from sklearn.decomposition import PCA\n",
    "from sklearn import svm\n",
    "import numpy as np\n",
    "import matplotlib.pyplot as plt\n",
    "\n",
    "# Reduzindo para 2D com PCA\n",
    "pca = PCA(n_components=2)\n",
    "X_train_pca = pca.fit_transform(X_train)\n",
    "\n",
    "# Treinando o SVM com os dados transformados\n",
    "clf = svm.SVC(kernel='linear')  # Use o kernel que você treinou\n",
    "clf.fit(X_train_pca, y_train)\n",
    "\n",
    "# Criando uma malha de pontos no espaço PCA\n",
    "x_min, x_max = X_train_pca[:, 0].min() - 1, X_train_pca[:, 0].max() + 1\n",
    "y_min, y_max = X_train_pca[:, 1].min() - 1, X_train_pca[:, 1].max() + 1\n",
    "xx, yy = np.meshgrid(np.linspace(x_min, x_max, 500),\n",
    "                     np.linspace(y_min, y_max, 500))\n",
    "\n",
    "# Classificando cada ponto na malha\n",
    "Z = clf.predict(np.c_[xx.ravel(), yy.ravel()])\n",
    "Z = Z.reshape(xx.shape)\n",
    "\n",
    "# Visualizando graficamente\n",
    "fig, ax = plt.subplots()\n",
    "ax.contourf(xx, yy, Z, alpha=0.8)  # Regiões de decisão\n",
    "ax.scatter(X_train_pca[:, 0], X_train_pca[:, 1], c=y_train, s=60, edgecolors='k')  # Dados de treino\n",
    "\n",
    "plt.xlabel('PCA 1')\n",
    "plt.ylabel('PCA 2')\n",
    "plt.title('Hiperplano do SVM após PCA')\n",
    "plt.show()\n"
   ]
  },
  {
   "cell_type": "markdown",
   "id": "ae27bc4f-d8d5-447c-98b8-e53aa8626206",
   "metadata": {},
   "source": [
    "### Executando o SVM com o kernel linear"
   ]
  },
  {
   "cell_type": "code",
   "execution_count": null,
   "id": "8f71459b-f472-4bfc-9efd-019bd2ce0ee4",
   "metadata": {},
   "outputs": [],
   "source": [
    "classificador2 = SVC(kernel='linear').fit(X_train, y_train)"
   ]
  },
  {
   "cell_type": "code",
   "execution_count": null,
   "id": "baf62229-bf02-409c-b7dc-52daecf9f5c3",
   "metadata": {},
   "outputs": [],
   "source": [
    "classificador2.coef_"
   ]
  },
  {
   "cell_type": "code",
   "execution_count": null,
   "id": "b5fdd65b-276f-4c39-8ac8-11ce0dd8034e",
   "metadata": {},
   "outputs": [],
   "source": [
    "# instantiate classifier with linear kernel and C=1.0\n",
    "linear_svc=SVC(kernel='linear', C=100.0) \n",
    "\n",
    "\n",
    "# fit classifier to training set\n",
    "linear_svc.fit(X_train,y_train)\n",
    "\n",
    "\n",
    "# make predictions on test set\n",
    "y_pred_test=linear_svc.predict(X_test)\n",
    "\n",
    "\n",
    "# compute and print accuracy score\n",
    "print('Model accuracy score with linear kernel and C=1.0 : {0:0.4f}'. format(accuracy_score(y_test, y_pred_test)))"
   ]
  },
  {
   "cell_type": "code",
   "execution_count": null,
   "id": "76c165ee-efa4-41f4-8beb-eb05190b574b",
   "metadata": {},
   "outputs": [],
   "source": [
    "linear_svc.predict([[1.227131,0.348453,-1.274718,-0.308276,-0.324496,-0.437893,-0.045197,-0.248413]])"
   ]
  },
  {
   "cell_type": "markdown",
   "id": "dadbc89c-f9ab-41d0-93ab-70aa13d7b165",
   "metadata": {},
   "source": [
    "### Matriz de Confusão"
   ]
  },
  {
   "cell_type": "code",
   "execution_count": null,
   "id": "4f735470-0c1b-4ecd-8c08-6b1d8133f697",
   "metadata": {},
   "outputs": [],
   "source": [
    "from sklearn.metrics import confusion_matrix\n",
    "\n",
    "cm = confusion_matrix(y_test, y_pred_test)\n",
    "\n",
    "cm_matrix = pd.DataFrame(data=cm, columns=['Actual Positive:1', 'Actual Negative:0'], \n",
    "                                 index=['Predict Positive:1', 'Predict Negative:0'])\n",
    "\n",
    "sns.heatmap(cm_matrix, annot=True, fmt='d', cmap='YlGnBu')"
   ]
  },
  {
   "cell_type": "markdown",
   "id": "50872aff-5c0d-4184-b3ef-08a09eeb1f53",
   "metadata": {},
   "source": [
    "### Métricas de Classificação"
   ]
  },
  {
   "cell_type": "markdown",
   "id": "fcf3592b-476a-46f5-9383-355882e7aa20",
   "metadata": {},
   "source": [
    "#### Precisão, recall, f1 e support"
   ]
  },
  {
   "cell_type": "code",
   "execution_count": null,
   "id": "6764a929-9cb3-442b-a4c2-d938f3f5d86b",
   "metadata": {},
   "outputs": [],
   "source": [
    "from sklearn.metrics import classification_report\n",
    "print(classification_report(y_test, y_pred_test))"
   ]
  },
  {
   "cell_type": "markdown",
   "id": "e1c0120d-9e2d-4544-bf2b-2d677caad609",
   "metadata": {},
   "source": [
    "> ## Aplicação 02 - Classificação de Frutas (Laranja ou Maçã?)"
   ]
  },
  {
   "cell_type": "markdown",
   "id": "87c9b545-de1f-41f8-8d21-17da6fd426fa",
   "metadata": {},
   "source": [
    "O dataset utilizado está presente em: https://github.com/SnehaShukla937/SupportVectorMachine\n"
   ]
  },
  {
   "cell_type": "markdown",
   "id": "70a480c4-ed43-411c-bb2a-2ee1adfe2723",
   "metadata": {},
   "source": [
    "#### Etapa 01 - Importando Bibliotecas e Preparando o Dataset"
   ]
  },
  {
   "cell_type": "code",
   "execution_count": null,
   "id": "e4239bb7-0abf-4cd4-bfbe-69668f76bfa6",
   "metadata": {},
   "outputs": [],
   "source": [
    "import pandas as pd\n",
    "from sklearn.model_selection import train_test_split\n",
    "from sklearn.svm import SVC\n",
    "from sklearn.metrics import confusion_matrix\n",
    "from sklearn.preprocessing import LabelEncoder\n",
    "\n",
    "#leitura do csv\n",
    "dataset = './datasets/apples_and_oranges.csv'\n",
    "data = pd.read_csv(dataset)"
   ]
  },
  {
   "cell_type": "code",
   "execution_count": null,
   "id": "66e0f118-5c49-4e14-b9fd-76e03a3769ee",
   "metadata": {},
   "outputs": [],
   "source": [
    "data.head(10)"
   ]
  },
  {
   "cell_type": "code",
   "execution_count": null,
   "id": "49df91a1-8f68-4cd8-8f10-df01cff13b91",
   "metadata": {},
   "outputs": [],
   "source": [
    "# Divisão do dataset e criando os vetores para o SVM\n",
    "training_set, test_set = train_test_split(data, test_size=0.2,random_state=1)\n",
    "x_train = training_set.iloc[:,0:2].values #dados de treino\n",
    "y_train = training_set.iloc[:,2].values # classe de treino\n",
    "x_test = test_set.iloc[:,0:2].values #dados de teste\n",
    "y_test = test_set.iloc[:,2].values #classe de teste"
   ]
  },
  {
   "cell_type": "markdown",
   "id": "fdc06458-c770-469b-971c-b49aaa5335d5",
   "metadata": {},
   "source": [
    "#### Etapa 02 - Treinando o modelo"
   ]
  },
  {
   "cell_type": "code",
   "execution_count": null,
   "id": "3c7a3b6e-a477-4e71-bf53-00540a85ff95",
   "metadata": {},
   "outputs": [],
   "source": [
    "classificador = SVC(kernel='rbf', random_state=1,C=1,gamma ='auto')\n",
    "classificador.fit(x_train, y_train)"
   ]
  },
  {
   "cell_type": "markdown",
   "id": "44ee3b62-a5e0-492e-ba0a-9a7d4be45128",
   "metadata": {},
   "source": [
    "#### Etapa 03 - Analisando as métricas do classificador"
   ]
  },
  {
   "cell_type": "code",
   "execution_count": null,
   "id": "93b21db5-72f8-4433-984d-b6a790354caa",
   "metadata": {},
   "outputs": [],
   "source": [
    "import seaborn as sns\n",
    "\n",
    "y_pred = classificador.predict(x_test)\n",
    "matriz_confusao = confusion_matrix(y_test,y_pred)\n",
    "\n",
    "# Graficos da matriz de confusão usando seaborn\n",
    "\n",
    "cm_matrix = pd.DataFrame(data=matriz_confusao, \n",
    "                         columns=['Actual Positive:1', 'Actual Negative:0'], \n",
    "                                 index=['Predict Positive:1', 'Predict Negative:0'])\n",
    "\n",
    "sns.heatmap(cm_matrix, annot=True, fmt='d', cmap='YlGnBu')\n"
   ]
  },
  {
   "cell_type": "code",
   "execution_count": null,
   "id": "c254c5a9-b75e-4737-b172-988dcd135391",
   "metadata": {},
   "outputs": [],
   "source": [
    "acuracia = float(matriz_confusao.diagonal().sum())/len(y_test)\n",
    "print('A acurácia do modelo é: ', acuracia*100,'%')"
   ]
  },
  {
   "cell_type": "markdown",
   "id": "d911c219-fab4-4266-8a37-8b5db5b01288",
   "metadata": {},
   "source": [
    "#### Etapa 06 - Visualizando o hiperplano"
   ]
  },
  {
   "cell_type": "code",
   "execution_count": null,
   "id": "35d2450b-ef84-4d17-9a9b-9695e920a99f",
   "metadata": {},
   "outputs": [],
   "source": [
    "import matplotlib.pyplot as plt\n",
    "import numpy as np\n",
    "\n",
    "lb = LabelEncoder()\n",
    "y_train = lb.fit_transform(y_train)\n",
    "classificador = SVC(kernel='rbf', random_state=1,C=1,gamma ='auto')\n",
    "classificador.fit(x_train, y_train)"
   ]
  },
  {
   "cell_type": "code",
   "execution_count": null,
   "id": "6d66dcb7-1daa-4e55-8f36-8252bc0ada75",
   "metadata": {
    "scrolled": true
   },
   "outputs": [],
   "source": [
    "from matplotlib.colors import ListedColormap\n",
    "\n",
    "# visualizing the training data after model fitting\n",
    "plt.figure(figsize=(7,7))\n",
    "x_set,y_set = x_train,y_train\n",
    "x1,x2 = np.meshgrid(np.arange(start=x_set[:,0].min()-1,stop = x_set[:,0].max()+1,step = 0.01),\n",
    "                    np.arange(start = x_set[:,1].min()-1,stop = x_set[:,1].max()+1,step = 0.01))\n",
    "plt.contourf(x1,x2,classificador.predict(np.array([x1.ravel(),x2.ravel()]).T).reshape(x1.shape),alpha = 0.75,cmap =\n",
    "             ListedColormap(('black','white')))\n",
    "plt.xlim(x1.min(),x1.max())\n",
    "plt.ylim(x2.min(),x2.max())\n",
    "for i,j in enumerate(np.unique(y_set)):\n",
    "    plt.scatter(x_set[y_set == j,0],\n",
    "                x_set[y_set == j,1],\n",
    "                c =ListedColormap(('red','orange'))(i),\n",
    "                label = j)\n",
    "\n",
    "plt.title('Maçã Vs Laranja')\n",
    "plt.xlabel('Peso em gramas')\n",
    "plt.ylabel('Tamanho em cm')\n",
    "plt.legend()\n",
    "plt.show()\n"
   ]
  },
  {
   "cell_type": "markdown",
   "id": "927b9a09-bdb3-4d32-a2de-22f2dbe66e24",
   "metadata": {},
   "source": [
    "#### Etapa 05 - Fazendo Predições"
   ]
  },
  {
   "cell_type": "code",
   "execution_count": null,
   "id": "9ce4c972-50df-43b4-bc58-0683ee666b4c",
   "metadata": {},
   "outputs": [],
   "source": [
    "def analise(instancia):\n",
    "    return ('Maçã' if classificador.predict(instancia) == 0 else 'Laranja')\n",
    "\n",
    "peso = float(input(\"Digite o peso: \"))\n",
    "tamanho = float(input(\"Digite o tamanho: \"))\n",
    "instancia = [[peso,tamanho]]\n",
    "\n",
    "print(\"A jugar o peso e tamanho trata-se de: {}\".format(analise(instancia)))"
   ]
  },
  {
   "cell_type": "markdown",
   "id": "eec76490-af7b-430d-ad94-2834e05cc1f2",
   "metadata": {},
   "source": [
    ">## Aplicação 03 - Sobreviventes do Titanic"
   ]
  },
  {
   "cell_type": "markdown",
   "id": "3dfaa4b2-8c12-448e-91de-fe5a03ac57ea",
   "metadata": {},
   "source": [
    "O dataset utilizado está presente em: https://www.kaggle.com/datasets/yasserh/titanic-dataset\n",
    "\n",
    "Objetivos:\n",
    "    <li> Entender o conjunto de dados e a limpeza (se necessário).\n",
    "    <li> Construir um modelo de classificação forte para prever se o passageiro sobreviverá ou não.\n",
    "    <li> Ajustar os hiperparâmetros e comparar as métricas de avaliação \n",
    "\n",
    "\n"
   ]
  },
  {
   "cell_type": "markdown",
   "id": "59eb2b10-6dd8-4c80-a348-e374f513f394",
   "metadata": {},
   "source": [
    "#### Etapa 01 - Importação das bibliotecas e pre-processamento dos dados"
   ]
  },
  {
   "cell_type": "code",
   "execution_count": null,
   "id": "fd9a68e2-67cc-4887-9d50-f088aa446417",
   "metadata": {},
   "outputs": [],
   "source": [
    "import pandas as pd\n",
    "from sklearn.model_selection import train_test_split\n",
    "from sklearn.svm import SVC\n",
    "from sklearn.metrics import confusion_matrix\n",
    "from sklearn.preprocessing import LabelEncoder\n",
    "\n",
    "#leitura do csv\n",
    "dataset = './datasets/titanic.csv'\n",
    "data = pd.read_csv(dataset)"
   ]
  },
  {
   "cell_type": "code",
   "execution_count": null,
   "id": "f3576a35-5706-435a-aa2e-e6b2c760cc3b",
   "metadata": {},
   "outputs": [],
   "source": [
    "data.head()"
   ]
  },
  {
   "cell_type": "code",
   "execution_count": null,
   "id": "61207b04-514c-4021-9c8b-85a62ebf5023",
   "metadata": {},
   "outputs": [],
   "source": [
    "data.info()"
   ]
  },
  {
   "cell_type": "code",
   "execution_count": null,
   "id": "539e74e5-a115-4939-856d-dd23fde3adcb",
   "metadata": {},
   "outputs": [],
   "source": [
    "# Elimina as colunas\n",
    "\n",
    "data.drop(['PassengerId','Name','Cabin','Ticket'],axis=1,inplace=True)\n",
    "data.head()"
   ]
  },
  {
   "cell_type": "code",
   "execution_count": null,
   "id": "76902849-ea6b-4217-954c-0c6e5edff365",
   "metadata": {},
   "outputs": [],
   "source": [
    "# Verifica se possu dados nulos\n",
    "\n",
    "data.isna().sum()"
   ]
  },
  {
   "cell_type": "code",
   "execution_count": null,
   "id": "1c58f378-13bf-4ffa-9f1e-be7f1ccea681",
   "metadata": {
    "jupyter": {
     "source_hidden": true
    }
   },
   "outputs": [],
   "source": [
    "train_set, test_set = train_test_split(data, test_size=0.2, random_state=1)"
   ]
  },
  {
   "cell_type": "code",
   "execution_count": null,
   "id": "b7507c88-c593-463c-a090-d384c4c584d1",
   "metadata": {},
   "outputs": [],
   "source": [
    "# Transformando o sexo em 0 e 1 (labeling)\n",
    "\n",
    "train_set['Sex'] = train_set['Sex'].map({'male':0, 'female':1}).astype(int)\n",
    "test_set['Sex'] = test_set['Sex'].map({'male':0, 'female':1}).astype(int)"
   ]
  },
  {
   "cell_type": "code",
   "execution_count": null,
   "id": "91a01359-9e89-4c33-82b3-fa1992335019",
   "metadata": {
    "jupyter": {
     "source_hidden": true
    }
   },
   "outputs": [],
   "source": [
    "train_set.head()"
   ]
  },
  {
   "cell_type": "code",
   "execution_count": null,
   "id": "e18acefa-3c90-4e29-88a1-d706351ce22c",
   "metadata": {},
   "outputs": [],
   "source": [
    "test_set.head()"
   ]
  },
  {
   "cell_type": "code",
   "execution_count": null,
   "id": "2be3c3e1-2179-4c15-b6b3-34043df36d71",
   "metadata": {},
   "outputs": [],
   "source": [
    "train_set = train_set[train_set.Age.notnull()]\n",
    "test_set = test_set[test_set.Age.notnull()]\n",
    "\n",
    "train_set.drop('Embarked', axis=1, inplace=True)\n",
    "test_set.drop('Embarked', axis=1, inplace=True)"
   ]
  },
  {
   "cell_type": "code",
   "execution_count": null,
   "id": "5b7b5617-3910-4a03-84ca-155bebcebbcc",
   "metadata": {},
   "outputs": [],
   "source": [
    "# O método pop remove a coluna e retorna a uma variável\n",
    "\n",
    "y_train = train_set.pop('Survived')\n",
    "y_test = test_set.pop('Survived')"
   ]
  },
  {
   "cell_type": "markdown",
   "id": "4206da6b-71c5-444d-8ff4-ea8e700136aa",
   "metadata": {},
   "source": [
    "#### Utilizando os parâmetros default do SVC"
   ]
  },
  {
   "cell_type": "code",
   "execution_count": null,
   "id": "4c71b802-3364-457f-b5f2-b9acbd83dee4",
   "metadata": {},
   "outputs": [],
   "source": [
    "# Treinamento do classificador de sobrevivência\n",
    "\n",
    "clf_sobre = SVC()\n",
    "clf_sobre.fit(train_set,y_train)\n",
    "prediction = clf_sobre.predict(test_set)"
   ]
  },
  {
   "cell_type": "code",
   "execution_count": null,
   "id": "f612615e-e265-4464-8cd3-7ad576ccc250",
   "metadata": {},
   "outputs": [],
   "source": [
    "# Predicting the result and giving the accuracy\n",
    "score = clf_sobre.score(test_set, y_test)\n",
    "\n",
    "print(score)"
   ]
  },
  {
   "cell_type": "markdown",
   "id": "64dabcae-6022-4f29-9056-0d10a161f1ef",
   "metadata": {},
   "source": [
    "#### Utilizando um Kernel linear"
   ]
  },
  {
   "cell_type": "code",
   "execution_count": null,
   "id": "3fff274c",
   "metadata": {},
   "outputs": [],
   "source": [
    "# Treinamento do classificador de sobrevivência\n",
    "\n",
    "clf_sobre = SVC(kernel='linear')\n",
    "clf_sobre.fit(train_set,y_train)\n",
    "prediction = clf_sobre.predict(test_set)"
   ]
  },
  {
   "cell_type": "code",
   "execution_count": null,
   "id": "8aa639f8",
   "metadata": {},
   "outputs": [],
   "source": [
    "# Predicting the result and giving the accuracy\n",
    "score = clf_sobre.score(test_set, y_test)\n",
    "\n",
    "print(score)"
   ]
  },
  {
   "cell_type": "markdown",
   "id": "74c4da3c-baf4-4315-8c86-676a7b324638",
   "metadata": {},
   "source": [
    "#### Utilziando um Kernel polinomial"
   ]
  },
  {
   "cell_type": "code",
   "execution_count": null,
   "id": "ac7f4a61",
   "metadata": {},
   "outputs": [],
   "source": [
    "# Treinamento do classificador de sobrevivência\n",
    "\n",
    "clf_sobre = SVC(kernel='poly')\n",
    "clf_sobre.fit(train_set,y_train)\n",
    "prediction = clf_sobre.predict(test_set)"
   ]
  },
  {
   "cell_type": "code",
   "execution_count": null,
   "id": "1f4f448b",
   "metadata": {},
   "outputs": [],
   "source": [
    "# Predicting the result and giving the accuracy\n",
    "score = clf_sobre.score(test_set, y_test)\n",
    "\n",
    "print(score)"
   ]
  },
  {
   "cell_type": "markdown",
   "id": "3068ccbb-ee01-495a-8dc5-f50d2b724057",
   "metadata": {},
   "source": [
    "#### Utilizando um Kernel RBF"
   ]
  },
  {
   "cell_type": "code",
   "execution_count": null,
   "id": "42977e8c",
   "metadata": {},
   "outputs": [],
   "source": [
    "# Treinamento do classificador de sobrevivência\n",
    "\n",
    "clf_sobre = SVC(kernel='rbf')\n",
    "clf_sobre.fit(train_set,y_train)\n",
    "prediction = clf_sobre.predict(test_set)"
   ]
  },
  {
   "cell_type": "code",
   "execution_count": null,
   "id": "e3a19b0d",
   "metadata": {},
   "outputs": [],
   "source": [
    "# Predicting the result and giving the accuracy\n",
    "score = clf_sobre.score(test_set, y_test)\n",
    "\n",
    "print(score)"
   ]
  },
  {
   "cell_type": "code",
   "execution_count": null,
   "id": "8b044a3c",
   "metadata": {},
   "outputs": [],
   "source": [
    "# Treinamento do classificador de sobrevivência\n",
    "\n",
    "clf_sobre = SVC(kernel='rbf',C=2000)\n",
    "clf_sobre.fit(train_set,y_train)\n",
    "prediction = clf_sobre.predict(test_set)"
   ]
  },
  {
   "cell_type": "code",
   "execution_count": null,
   "id": "49a5827c",
   "metadata": {},
   "outputs": [],
   "source": [
    "# Predicting the result and giving the accuracy\n",
    "score = clf_sobre.score(test_set, y_test)\n",
    "\n",
    "print(score)"
   ]
  },
  {
   "cell_type": "markdown",
   "id": "8d63d674-056d-44c3-b154-4b8a49569fe2",
   "metadata": {},
   "source": [
    ">## Aplicação 04 - Classificação de flores"
   ]
  },
  {
   "cell_type": "code",
   "execution_count": null,
   "id": "4a326da8-db40-440b-b362-ce1677ce53a0",
   "metadata": {},
   "outputs": [],
   "source": [
    "import pandas as pd\n",
    "import seaborn as sns\n",
    "from sklearn.model_selection import train_test_split\n",
    "from sklearn.svm import SVC\n",
    "from sklearn.metrics import confusion_matrix\n",
    "from sklearn.preprocessing import LabelEncoder\n",
    "\n",
    "#leitura do csv\n",
    "dataset = './datasets/IRIS.csv'\n",
    "data = pd.read_csv(dataset)\n"
   ]
  },
  {
   "cell_type": "code",
   "execution_count": null,
   "id": "c110f219-1ded-4731-b6a2-61f4469ac24b",
   "metadata": {},
   "outputs": [],
   "source": [
    "data.head()"
   ]
  },
  {
   "cell_type": "code",
   "execution_count": null,
   "id": "232b93ac-afc0-412e-8ec9-a96f562443f3",
   "metadata": {},
   "outputs": [],
   "source": [
    "data['species'].unique()"
   ]
  },
  {
   "cell_type": "code",
   "execution_count": null,
   "id": "9a62a19b-885e-4c2c-a0a6-f94e49528df4",
   "metadata": {},
   "outputs": [],
   "source": [
    "data.info()"
   ]
  },
  {
   "cell_type": "markdown",
   "id": "4d24698b-92d9-4f6f-b8da-730dc2273847",
   "metadata": {},
   "source": [
    "> <li> Temos 3 classes de flores: Iris-setosa, Iris-versicolor e Iris-virginica.</li>\n",
    "> <li> A ideia é, dados os valores de entrada (comprimento da petala, largura da pétala, comprimento da sepala, largura da sepala), classificar no tipo de flor.</li>\n",
    "> <li> A ideia é utilizar o SVM Linear em 2 características e, sem seguida, em todas as 4.</li>"
   ]
  },
  {
   "cell_type": "markdown",
   "id": "d42eabaa-171e-4b0e-8899-132e02e2c987",
   "metadata": {},
   "source": [
    "### Previsão com quatro características"
   ]
  },
  {
   "cell_type": "markdown",
   "id": "44998112-9f62-41f9-b0c4-dbf02b97be3e",
   "metadata": {},
   "source": [
    "Analisando a correlação das características com a matriz de correlação do pandas"
   ]
  },
  {
   "cell_type": "code",
   "execution_count": null,
   "id": "5448b743-33fb-43d8-9c20-3257a3208643",
   "metadata": {},
   "outputs": [],
   "source": [
    "# Verificação da correlação entre as características pelo coeficiente de Person. \n",
    "# A coluna da espécie foi removida para melhor visualização e por simplicidade (string)\n",
    "\n",
    "data.drop('species',axis=1).corr(method='pearson', min_periods=1, numeric_only=False)"
   ]
  },
  {
   "cell_type": "markdown",
   "id": "9903df19-87ea-4bdb-a12a-b8afe4e945cc",
   "metadata": {},
   "source": [
    "O comprimento e largura da pétala possuem correlação positiva e maior que zero com a maioria das demais características. Portanto, indicam serem bons pontos para o treinamento do modelo.\n",
    "O comprimento da sépala também apresentou bons números."
   ]
  },
  {
   "cell_type": "code",
   "execution_count": null,
   "id": "f8d9e208-6d59-4002-ab66-9374e653a695",
   "metadata": {},
   "outputs": [],
   "source": [
    "lb = LabelEncoder()\n",
    "classes_cdf = lb.fit(data['species'])\n",
    "\n",
    "# Exibe a codificação do LabelEncoder\n",
    "print(classes_cdf.classes_)\n",
    "print(classes_cdf.transform(['Iris-setosa','Iris-versicolor','Iris-virginica']))"
   ]
  },
  {
   "cell_type": "code",
   "execution_count": null,
   "id": "5e9125a6-e7a8-44ae-abab-e2f38b5e102d",
   "metadata": {},
   "outputs": [],
   "source": [
    "# Realiza a troca da String para valores inteiros e Ajusta o LabelEncoder com a coluna 'species'\n",
    "\n",
    "data['species'] = classes_cdf.fit_transform(data['species'])\n",
    "data.head()"
   ]
  },
  {
   "cell_type": "code",
   "execution_count": null,
   "id": "b2a227e6-cf85-43f9-8faf-eba2738e0438",
   "metadata": {},
   "outputs": [],
   "source": [
    "# Aqui são criados X_train e y_test, que são os subconjuntos de treino e teste\n",
    "\n",
    "X_train, x_test = train_test_split(data, test_size=0.2)"
   ]
  },
  {
   "cell_type": "code",
   "execution_count": null,
   "id": "2c783ad3-75c0-484b-b0f9-d757baa13bef",
   "metadata": {},
   "outputs": [],
   "source": [
    "# Subconjunto de treino\n",
    "\n",
    "# y_train contém a classe de treino\n",
    "y_train = X_train.pop('species')\n",
    "y_test = x_test.pop('species')"
   ]
  },
  {
   "cell_type": "code",
   "execution_count": null,
   "id": "63c835c9-fc66-4678-a112-4757861aa56b",
   "metadata": {},
   "outputs": [],
   "source": [
    "# X_train agora possui apenas as caracteristas de treinamento do modelo.\n",
    "# y_train possui o alvo.\n",
    "X_train.head()"
   ]
  },
  {
   "cell_type": "code",
   "execution_count": null,
   "id": "c261ceec-ef9d-4c96-8e0e-6654e86e063a",
   "metadata": {},
   "outputs": [],
   "source": [
    "# Uma vez preprocessados os dados, é hora do treino\n",
    "cl_flor = SVC(kernel='linear')\n",
    "cl_flor.fit(X_train,y_train)"
   ]
  },
  {
   "cell_type": "code",
   "execution_count": null,
   "id": "abe12c48-68ac-4474-99b3-7f1bbe6000c4",
   "metadata": {},
   "outputs": [],
   "source": [
    "# Agora, para testar os pesos obtidos com o treinamento, vamos usar o x_test. Assim, serão criadas as probabilidades da instância com os dados de teste\n",
    "# As probabilidades ficarão armazenadas na variável y_pred (previsões)\n",
    "\n",
    "y_pred = cl_flor.predict(x_test)"
   ]
  },
  {
   "cell_type": "code",
   "execution_count": null,
   "id": "76e67eca-7bac-4e98-92bb-ac7d62dba836",
   "metadata": {},
   "outputs": [],
   "source": [
    "# Por fim, a fim de verificar as métricas, podemos usar a matriz de confusão.\n",
    "\n",
    "# Aqui entra, finalmente, o y_test, que são os valores REAIS do banco de dados, sendo utilizados com os valores PREVISTOS anteriormente pelo modelo\n",
    "matriz_confusao = confusion_matrix(y_test,y_pred)\n",
    "\n",
    "# Graficos da matriz de confusão usando seaborn\n",
    "\n",
    "cm_matrix = pd.DataFrame(data=matriz_confusao, \n",
    "                         columns=['Iris-setosa:0', 'Iris-versicolor:1','Iris-virginica:2'], \n",
    "                                 index=['Iris-setosa:0', 'Iris-versicolor:1','Iris-virginica:2'] )\n",
    "\n",
    "sns.heatmap(cm_matrix, annot=True, fmt='d', cmap='YlGnBu')"
   ]
  },
  {
   "cell_type": "code",
   "execution_count": null,
   "id": "4f065dc2-4c62-42f9-b6ba-25e8035220fe",
   "metadata": {},
   "outputs": [],
   "source": [
    "# Predicting the result and giving the accuracy\n",
    "score = cl_flor.score(x_test, y_test)\n",
    "\n",
    "print(score)"
   ]
  },
  {
   "cell_type": "code",
   "execution_count": null,
   "id": "890ec128-ed46-4800-bac8-5fcd22d8b049",
   "metadata": {},
   "outputs": [],
   "source": [
    "import warnings\n",
    "\n",
    "# Suprimir aviso\n",
    "warnings.filterwarnings(\"ignore\", message=\"X does not have valid feature names\")\n",
    "\n",
    "\n",
    "#Função que recebe o conjunto de caracteristicas da instancia, faz a previsão da classe e, utilizando o encoder inverso, retorna a espécie\n",
    "def previsao_flor(instancia):\n",
    "    \n",
    "    # Transforma a lista de dados de entrada em um DataFrame com os nomes das colunas corretos\n",
    "    instancia_df = pd.DataFrame([instancia], columns=['sepal_length','sepal_width',\n",
    "                                                      'petal_length','petal_width'])\n",
    "    # Realiza a previsão e reverte a codificação  \n",
    "    p = classes_cdf.inverse_transform(cl_flor.predict([instancia]))\n",
    "    return p[0]\n",
    "\n",
    "c_petala = float(input(\"Digite o comprimento da pétala da flor: \"))\n",
    "l_petala = float(input(\"Digite a largura da pétala da flor: \"))\n",
    "\n",
    "c_sepala = float(input(\"Digite o comprimento da sépala da flor: \"))\n",
    "l_sepala = float(input(\"Digite a largura da sépala da flor: \"))\n",
    "\n",
    "dados = [c_petala,l_petala,c_sepala,l_sepala]\n",
    "\n",
    "print(\"Essa flor é uma {}\".format(previsao_flor(dados)))"
   ]
  },
  {
   "cell_type": "code",
   "execution_count": null,
   "id": "16a6286d-7da3-40b4-9142-bc569a3bed97",
   "metadata": {},
   "outputs": [],
   "source": []
  }
 ],
 "metadata": {
  "kernelspec": {
   "display_name": "Python 3 (ipykernel)",
   "language": "python",
   "name": "python3"
  },
  "language_info": {
   "codemirror_mode": {
    "name": "ipython",
    "version": 3
   },
   "file_extension": ".py",
   "mimetype": "text/x-python",
   "name": "python",
   "nbconvert_exporter": "python",
   "pygments_lexer": "ipython3",
   "version": "3.10.12"
  }
 },
 "nbformat": 4,
 "nbformat_minor": 5
}
